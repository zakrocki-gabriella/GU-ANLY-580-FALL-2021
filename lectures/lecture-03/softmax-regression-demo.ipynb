{
 "cells": [
  {
   "cell_type": "markdown",
   "id": "df58a0ef-a47f-430d-bc37-57a2e95dbdf7",
   "metadata": {},
   "source": [
    "# Softmax Regression Demo"
   ]
  },
  {
   "cell_type": "code",
   "execution_count": null,
   "id": "17cbf86a-9f38-4d45-afa8-2f908507b2be",
   "metadata": {},
   "outputs": [],
   "source": [
    "import numpy as np\n",
    "import matplotlib.pyplot as plt\n",
    "\n",
    "M = 20\n",
    "N = 2\n",
    "K = 3\n",
    "\n",
    "X = np.array([[-0.1, 1.4],\n",
    "              [-0.5, 0.2],\n",
    "              [ 1.3, 0.9],\n",
    "              [-0.6, 0.4],\n",
    "              [-1.6, 0.2],\n",
    "              [ 0.2, 0.2],\n",
    "              [-0.3,-0.4],\n",
    "              [ 0.7,-0.8],\n",
    "              [ 1.1,-1.5],\n",
    "              [-1.0, 0.9],\n",
    "              [-0.5, 1.5],\n",
    "              [-1.3,-0.4],\n",
    "              [-1.4,-1.2],\n",
    "              [-0.9,-0.7],\n",
    "              [ 0.4,-1.3],\n",
    "              [-0.4, 0.6],\n",
    "              [ 0.3,-0.5],\n",
    "              [-1.6,-0.7],\n",
    "              [-0.5,-1.4],\n",
    "              [-1.0,-1.4]])\n",
    "\n",
    "y = np.array([0, 0, 1, 0, 2, 1, 1, 1, 1, 0, \n",
    "              0, 2, 2, 2, 1, 0, 1, 2, 2, 2])\n",
    "Y = np.eye(3)[y]\n",
    "\n",
    "def plot(X, Y, W=None, b=None):\n",
    "    plt.grid()\n",
    "    plt.xlim([-2.0, 2.0])\n",
    "    plt.ylim([-2.0, 2.0])\n",
    "    plt.scatter(X[:, 0], X[:, 1], s=50, c=np.array(['r', 'g', 'b'])[y])\n",
    "    if all((W is not None, b is not None)):\n",
    "        xs = np.array([-2.0, 2.0])\n",
    "        ys1 = ((b[1] - b[0]) - (W[0, 0] - W[1, 0]) * xs) / (W[0, 1] - W[1, 1])\n",
    "        ys2 = ((b[2] - b[0]) - (W[0, 0] - W[2, 0]) * xs) / (W[0, 1] - W[2, 1])\n",
    "        ys3 = ((b[2] - b[1]) - (W[1, 0] - W[2, 0]) * xs) / (W[1, 1] - W[2, 1])\n",
    "        plt.plot(xs, ys1, c='black')\n",
    "        plt.plot(xs, ys2, c='black')\n",
    "        plt.plot(xs, ys3, c='black')"
   ]
  },
  {
   "cell_type": "code",
   "execution_count": null,
   "id": "9e576d3a-15f8-41f7-a28e-cfb6809583dd",
   "metadata": {},
   "outputs": [],
   "source": [
    "def f(X, W, b) -> np.ndarray:\n",
    "    return X.dot(W.T) + b"
   ]
  },
  {
   "cell_type": "code",
   "execution_count": null,
   "id": "1f4695a8-c9f6-484e-bb9f-01d17d5d10e0",
   "metadata": {},
   "outputs": [],
   "source": [
    "def softmax(Z) -> np.ndarray:\n",
    "    Z -= np.expand_dims(np.max(Z, axis=1), axis=1)\n",
    "    Z_exp = np.exp(Z)\n",
    "    part = np.expand_dims(np.sum(Z_exp, axis=1), axis=1)\n",
    "    return Z_exp / part"
   ]
  },
  {
   "cell_type": "code",
   "execution_count": null,
   "id": "e748f98a-3c1c-4be3-8f5d-802cd0360485",
   "metadata": {},
   "outputs": [],
   "source": [
    "def cross_entropy_loss(X, Y, W, b, wt_decay=0.0) -> float:\n",
    "    Py = softmax(f(X, W, b))\n",
    "    ce_losses = -np.sum(Y * np.log(Py), axis=1) \\\n",
    "                + wt_decay * np.linalg.norm(W, ord='fro') ** 2\n",
    "    return np.sum(ce_losses)"
   ]
  },
  {
   "cell_type": "code",
   "execution_count": null,
   "id": "35842b3a-3625-477c-8199-d891100a98ce",
   "metadata": {},
   "outputs": [],
   "source": [
    "def ce_grads(X, Y, W, b, wt_decay=0.0) -> np.ndarray:\n",
    "    Z = f(X, W, b)\n",
    "    sigma = softmax(Z)\n",
    "    W_grad = (sigma - Y).T.dot(X)\n",
    "    W_grad += wt_decay * 2 * W_grad\n",
    "    b_grad = np.sum(sigma - Y, axis=0)\n",
    "    return W_grad, b_grad"
   ]
  },
  {
   "cell_type": "code",
   "execution_count": null,
   "id": "f8f1b06b-3cda-4e11-b772-5fbfbd4f76a2",
   "metadata": {},
   "outputs": [],
   "source": [
    "def predict(X, W, b) -> np.ndarray:\n",
    "    Py = softmax(f(X, W, b))\n",
    "    Y_hat = np.argmax(Py, axis=1)\n",
    "    return Y_hat"
   ]
  },
  {
   "cell_type": "code",
   "execution_count": null,
   "id": "ee8e25e0-9f0e-429f-b22d-17389ff671aa",
   "metadata": {},
   "outputs": [],
   "source": [
    "def initialize():\n",
    "    W = 2.0 * np.random.random(size=(K, N))\n",
    "    b = 2.0 * np.random.random(size=(K,))\n",
    "    lr = 3.0\n",
    "    return W, b, lr"
   ]
  },
  {
   "cell_type": "code",
   "execution_count": null,
   "id": "8c8170b2-80a6-4a88-b8f1-063426aa1bea",
   "metadata": {},
   "outputs": [],
   "source": [
    "import time\n",
    "from tqdm import tqdm\n",
    "\n",
    "W, b, lr = initialize()\n",
    "batch_size = 2\n",
    "lr_decay = 0.9999\n",
    "wt_decay = 4.0\n",
    "epochs = 20\n",
    "\n",
    "bar = tqdm(total=epochs)\n",
    "for epoch in range(epochs):\n",
    "    ce_loss = 0\n",
    "    Y_hat = []\n",
    "    for i in range(0, M, batch_size):\n",
    "        # Get batch\n",
    "        X_batch = X[i: i + batch_size]\n",
    "        Y_batch = Y[i: i + batch_size]\n",
    "        # Cache predictions\n",
    "        Y_hat_batch = predict(X_batch, W, b)\n",
    "        Y_hat.extend(Y_hat_batch.tolist())\n",
    "        # Compute cross entropy loss\n",
    "        ce_loss += cross_entropy_loss(\n",
    "            X_batch, Y_batch, W, b)\n",
    "        # Compute gradients\n",
    "        W_grad, b_grad = ce_grads(\n",
    "            X_batch, Y_batch, W, b, wt_decay=wt_decay)\n",
    "        # Update\n",
    "        W -= lr * W_grad\n",
    "        b -= lr * b_grad\n",
    "    acc = np.mean(Y_hat == y)\n",
    "    lr *= lr_decay\n",
    "    bar.update(1)\n",
    "    bar.set_description(\"Epoch: %s, CE-loss: %.8f, Acc: %.2f, lr: %.4f\" \n",
    "                        % (epoch + 1, ce_loss / M, acc, lr))\n",
    "bar.close()\n",
    "tqdm._instances.clear()\n",
    "\n",
    "Y_hat = predict(X, W, b)\n",
    "tr_acc = np.mean(Y_hat == y)\n",
    "tr_acc, y, Y_hat"
   ]
  },
  {
   "cell_type": "code",
   "execution_count": null,
   "id": "f54f5120-d39e-4128-bfe3-2c878be32c99",
   "metadata": {},
   "outputs": [],
   "source": [
    "plot(X, Y, W, b)"
   ]
  }
 ],
 "metadata": {
  "kernelspec": {
   "display_name": "Python 3 (ipykernel)",
   "language": "python",
   "name": "python3"
  },
  "language_info": {
   "codemirror_mode": {
    "name": "ipython",
    "version": 3
   },
   "file_extension": ".py",
   "mimetype": "text/x-python",
   "name": "python",
   "nbconvert_exporter": "python",
   "pygments_lexer": "ipython3",
   "version": "3.7.9"
  }
 },
 "nbformat": 4,
 "nbformat_minor": 5
}
