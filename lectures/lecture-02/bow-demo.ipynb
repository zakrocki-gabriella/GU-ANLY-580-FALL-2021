{
 "cells": [
  {
   "cell_type": "markdown",
   "id": "d70d3831-a07d-4125-9d0c-63f6bb3b7ccf",
   "metadata": {},
   "source": [
    "## Bag Of Words Feature Representation Demo\n",
    "\n",
    "https://en.wikipedia.org/wiki/Natural_language_processing"
   ]
  },
  {
   "cell_type": "code",
   "execution_count": 1,
   "id": "c93f6147",
   "metadata": {},
   "outputs": [
    {
     "data": {
      "text/plain": [
       "'<!doctype html>\\n<html class=\"client-nojs\" lang=\"en\" dir=\"ltr\">\\n<head>\\n<meta charset=\"utf-8\"/>\\n<title>natural language processing - wikipedia</title>\\n<script>document.documentelement.classname=\"client-js\";rlconf={\"wgbreakframes\":!1,\"wgseparatortransformtable\":[\"\",\"\"],\"wgdigittransformtable\":[\"\",\"\"],\"wgdefaultdateformat\":\"dmy\",\"wgmonthnames\":[\"\",\"january\",\"february\",\"march\",\"april\",\"may\",\"june\",\"july\",\"august\",\"september\",\"october\",\"november\",\"december\"],\"wgrequestid\":\"a354e26e-3533-4463-8d08-4efb4c41728c\",\"wgcspnonce\":!1,\"wgcanonicalnamespace\":\"\",\"wgcanonicalspecialpagename\":!1,\"wgnamespacenumber\":0,\"wgpagename\":\"natural_language_processing\",\"wgtitle\":\"natural language processing\",\"wgcurrevisionid\":1037947074,\"wgrevisionid\":1037947074,\"wgarticleid\":21652,\"wgisarticle\":!0,\"wgisredirect\":!1,\"wgaction\":\"view\",\"wgusername\":null,\"wgusergroups\":[\"*\"],\"wgcategories\":[\"cs1 maint: location\",\"articles with short description\",\"short description matches wikidata\",\"commons category link from wikidata\",\"articles with lccn identifiers\",\"articles with ndl identifiers\",\"natural language processing\",\"computational linguistics\",\\n\"speech recognition\",\"computational fields of study\",\"artificial intelligence\"],\"wgpagecontentlanguage\":\"en\",\"wgpagecontentmodel\":\"wikitext\",\"wgrelevantpagename\":\"natural_language_processing\",\"wgrelevantarticleid\":21652,\"wgisprobablyeditable\":!0,\"wgrelevantpageisprobablyeditable\":!0,\"wgrestrictionedit\":[],\"wgrestrictionmove\":[],\"wgflaggedrevsparams\":{\"tags\":{\"status\":{\"levels\":-1}}},\"wgmediavieweronclick\":!0,\"wgmediaviewerenabledbydefault\":!0,\"wgpopupsflags\":10,\"wgvisualeditor\":{\"pagelanguagecode\":\"en\",\"pagelanguagedir\":\"ltr\",\"pagevariantfallbacks\":\"en\"},\"wgmfdisplaywikibasedescriptions\":{\"search\":!0,\"nearby\":!0,\"watchlist\":!0,\"tagline\":!1},\"wgwmeschemaeditattemptstepoversample\":!1,\"wgulscurrentautonym\":\"english\",\"wgnoticeproject\":\"wikipedia\",\"wgcentralauthmobiledomain\":!1,\"wgeditsubmitbuttonlabelpublish\":!0,\"wgulsposition\":\"interlanguage\",\"wgulsiscompactlinksenabled\":!0,\"wggenewcomertasksguidanceenabled\":!0,\"wggeaskquestionenabled\":!1,\\n\"wggelinkrecommendationsfrontendenabled\":!1,\"wgwikibaseitemid\":\"q30642\"};rlstate={\"ext.globalcssjs.user.styles\":\"ready\",\"site.styles\":\"ready\",\"noscript\":\"ready\",\"user.styles\":\"ready\",\"ext.globalcssjs.user\":\"ready\",\"user\":\"ready\",\"user.options\":\"loading\",\"ext.cite.styles\":\"ready\",\"ext.math.styles\":\"ready\",\"skins.vector.styles.legacy\":\"ready\",\"jquery.makecollapsible.styles\":\"ready\",\"ext.visualeditor.desktoparticletarget.noscript\":\"ready\",\"ext.uls.interlanguage\":\"ready\",\"ext.wikimediabadges\":\"ready\",\"wikibase.client.init\":\"ready\"};rlpagemodules=[\"ext.cite.ux-enhancements\",\"ext.math.scripts\",\"site\",\"mediawiki.page.ready\",\"jquery.makecollapsible\",\"mediawiki.toc\",\"skins.vector.legacy.js\",\"ext.gadget.referencetooltips\",\"ext.gadget.charinsert\",\"ext.gadget.extra-toolbar-buttons\",\"ext.gadget.reftoolbar\",\"ext.gadget.switcher\",\"ext.centralauth.centralautologin\",\"mmv.head\",\"mmv.bootstrap.autostart\",\"ext.popups\",\"ext.visua'"
      ]
     },
     "execution_count": 1,
     "metadata": {},
     "output_type": "execute_result"
    }
   ],
   "source": [
    "import requests\n",
    "\n",
    "url = \"https://en.wikipedia.org/wiki/Natural_language_processing\"\n",
    "resp = requests.get(url)\n",
    "text = resp.text.lower()\n",
    "text[:3000]"
   ]
  },
  {
   "cell_type": "markdown",
   "id": "a739e491-da90-4fdf-8ed6-cbaccdeb1674",
   "metadata": {},
   "source": [
    "### Light text sanitization w/regular expressions"
   ]
  },
  {
   "cell_type": "code",
   "execution_count": 2,
   "id": "23ce02cf",
   "metadata": {},
   "outputs": [
    {
     "data": {
      "text/plain": [
       "'natural language processing wikipedia document documentelement classname= client js ;rlconf= wgbreakframes 1 wgseparatortransformtable wgdigittransformtable wgdefaultdateformat dmy wgmonthnames january february march april may june july august september october november december wgrequestid a354e26e 3533 4463 8d08 4efb4c41728c wgcspnonce 1 wgcanonicalnamespace wgcanonicalspecialpagename 1 wgnamespacenumber 0 wgpagename natural_language_processing wgtitle natural language processing wgcurrevisionid 1037947074 wgrevisionid 1037947074 wgarticleid 21652 wgisarticle 0 wgisredirect 1 wgaction view wgusername null wgusergroups wgcategories cs1 maint location articles with short description short description matches wikidata commons category link from wikidata articles with lccn identifiers articles with ndl identifiers natural language processing computational linguistics speech recognition computational fields of study artificial intelligence wgpagecontentlanguage en wgpagecontentmodel wikitext wgrelevantpagename natural_language_processing wgrelevantarticleid 21652 wgisprobablyeditable 0 wgrelevantpageisprobablyeditable 0 wgrestrictionedit wgrestrictionmove wgflaggedrevsparams tags status levels 1 wgmediavieweronclick 0 wgmediaviewerenabledbydefault 0 wgpopupsflags 10 wgvisualeditor pagelanguagecode en pagelanguagedir ltr pagevariantfallbacks en wgmfdisplaywikibasedescriptions search 0 nearby 0 watchlist 0 tagline 1 wgwmeschemaeditattemptstepoversample 1 wgulscurrentautonym english wgnoticeproject wikipedia wgcentralauthmobiledomain 1 wgeditsubmitbuttonlabelpublish 0 wgulsposition interlanguage wgulsiscompactlinksenabled 0 wggenewcomertasksguidanceenabled 0 wggeaskquestionenabled 1 wggelinkrecommendationsfrontendenabled 1 wgwikibaseitemid q30642 ;rlstate= ext globalcssjs user styles ready site styles ready noscript ready user styles ready ext globalcssjs user ready user ready user options loading ext cite styles ready ext math styles ready skins vector styles legacy ready jquery makecollapsible styles ready ext visualeditor desktoparticletarget noscript ready ext uls interlanguage ready ext wikimediabadges ready wikibase client init ready ;rlpagemodules= ext cite ux enhancements ext math scripts site mediawiki page ready jquery makecollapsible mediawiki toc skins vector legacy js ext gadget referencetooltips ext gadget charinsert ext gadget extra toolbar buttons ext gadget reftoolbar ext gadget switcher ext centralauth centralautologin mmv head mmv bootstrap autostart ext popups ext visualeditor desktoparticletarget init ext visualeditor targetloader ext eventlogging ext wikimediaevents ext navigationtiming ext uls compactlinks ext uls interface ext cx eventlogging campaigns ext centralnotice geoip ext centralnotice startup ext growthexperiments suggestededitsession ; (rlq=window rlq ) push(function() mw loader implement( user options@1hzgi function($ jquery require module) / @nomin /mw user tokens set( patroltoken +\\\\\\\\ watchtoken +\\\\\\\\ csrftoken +\\\\\\\\ ); '"
      ]
     },
     "execution_count": 2,
     "metadata": {},
     "output_type": "execute_result"
    }
   ],
   "source": [
    "import re\n",
    "\n",
    "patterns = [r'\\|', r'\\.', r'\\,', r'\\*', r'\\-', r'\\:', r'\\#', r'\\n', r'\\t', r'<[^>]+>', r'\"', r'\\'', r'\\[', r'\\]', r'\\{', r'\\}', r'\\!', r'\\s+']\n",
    "repl = ' '\n",
    "for p in patterns:\n",
    "    text = re.sub(p, repl, text).strip()\n",
    "text[:3000]"
   ]
  },
  {
   "cell_type": "markdown",
   "id": "60c4ded2-9db5-4d45-adfa-7a598880f1d3",
   "metadata": {},
   "source": [
    "### Compute histogram of words"
   ]
  },
  {
   "cell_type": "code",
   "execution_count": 4,
   "id": "ab252432",
   "metadata": {},
   "outputs": [],
   "source": [
    "from collections import Counter\n",
    "\n",
    "list_of_words = text.split(' ')\n",
    "word_hist = Counter(list_of_words)\n",
    "word_counts = word_hist.most_common()"
   ]
  },
  {
   "cell_type": "markdown",
   "id": "84d7295c-b8a1-4ac9-b0ab-fbbb47545174",
   "metadata": {},
   "source": [
    "### Compute BOW feature on test sentence"
   ]
  },
  {
   "cell_type": "code",
   "execution_count": 5,
   "id": "682bb1d1",
   "metadata": {},
   "outputs": [],
   "source": [
    "import numpy as np\n",
    "\n",
    "text = \"natural language processing with neural networks\"\n",
    "bow_featurizer = {word: idx for idx, word in enumerate(word_hist)}\n",
    "feature = np.zeros(shape=(len(bow_featurizer)))\n",
    "for word in text.split(\" \"):\n",
    "    feature[bow_featurizer[word]] += 1"
   ]
  }
 ],
 "metadata": {
  "interpreter": {
   "hash": "f986a2461f5786d3cd1b7b30856ec5b277970b9a8cbc7da222a05b7f2c0b8370"
  },
  "kernelspec": {
   "display_name": "Python 3 (ipykernel)",
   "language": "python",
   "name": "python3"
  },
  "language_info": {
   "codemirror_mode": {
    "name": "ipython",
    "version": 3
   },
   "file_extension": ".py",
   "mimetype": "text/x-python",
   "name": "python",
   "nbconvert_exporter": "python",
   "pygments_lexer": "ipython3",
   "version": "3.7.9"
  }
 },
 "nbformat": 4,
 "nbformat_minor": 5
}
