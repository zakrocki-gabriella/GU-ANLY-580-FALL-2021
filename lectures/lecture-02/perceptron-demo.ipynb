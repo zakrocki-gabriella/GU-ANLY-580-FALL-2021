{
 "cells": [
  {
   "cell_type": "markdown",
   "id": "21a1c232",
   "metadata": {},
   "source": [
    "# Perceptron Demo"
   ]
  },
  {
   "cell_type": "code",
   "execution_count": null,
   "id": "cf405961",
   "metadata": {},
   "outputs": [],
   "source": [
    "import numpy as np\n",
    "import matplotlib.pyplot as plt\n",
    "%matplotlib notebook\n",
    "%matplotlib inline"
   ]
  },
  {
   "cell_type": "code",
   "execution_count": null,
   "id": "77342639",
   "metadata": {},
   "outputs": [],
   "source": [
    "def gen_perceptron_data(M, w_hat):\n",
    "    \"\"\" \n",
    "    Hyperplane: \n",
    "        xw = 0\n",
    "        x1 = w0*x0/w1 <- Generate data here from w,b\n",
    "    \"\"\"\n",
    "    x = np.random.uniform(-10, 10, size=[M, 2])\n",
    "    y = np.where(x[:, 1] > -w_hat[0, 0] * x[:, 0] / w_hat[0, 1], 1., -1.)\n",
    "    y = np.expand_dims(y, axis=1)\n",
    "    return np.concatenate((x, y), axis=1)"
   ]
  },
  {
   "cell_type": "code",
   "execution_count": null,
   "id": "fdc95199",
   "metadata": {},
   "outputs": [],
   "source": [
    "M = 500 # num data points\n",
    "w_hat = np.array([[1, 2]])\n",
    "D = gen_perceptron_data(M, w_hat)\n",
    "x0 = np.linspace(min(D[:, 0]), max(D[:, 0]))\n",
    "x1_hat = -w_hat[0, 0] * x0 / w_hat[0, 1]\n",
    "x0_rng = [min(x0) - 7., max(x0) + 7.]\n",
    "x1_rng = [min(x1_hat) - 7., max(x1_hat) + 7.]"
   ]
  },
  {
   "cell_type": "code",
   "execution_count": null,
   "id": "2f766756",
   "metadata": {},
   "outputs": [],
   "source": [
    "from IPython.display import clear_output\n",
    "\n",
    "plt.rcParams['figure.figsize'] = [12, 8]\n",
    "\n",
    "def plot_hyperplane(w, pause=0.25):\n",
    "    clear_output()\n",
    "    plt.clf()\n",
    "    plt.scatter(D[:, 0], D[:, 1], c=D[:, 2])\n",
    "    x1 = -w[0, 0] * x0 / w[0, 1]\n",
    "    plt.plot(x0, x1, 'g--', label='current');\n",
    "    plt.plot(x0, x1_hat, 'r--', label='original');\n",
    "    plt.xlim(*x0_rng)\n",
    "    plt.ylim(*x1_rng)\n",
    "    plt.legend()\n",
    "    plt.show();\n",
    "    plt.pause(pause);"
   ]
  },
  {
   "cell_type": "code",
   "execution_count": null,
   "id": "26d6f0b4",
   "metadata": {},
   "outputs": [],
   "source": [
    "w = np.zeros(shape=[1,2])\n",
    "lr = 1.0\n",
    "plot_hyperplane(w)\n",
    "while True:\n",
    "    c = 0\n",
    "    for point in D:\n",
    "        y = point[-1]\n",
    "        x = np.array([point[:2]])\n",
    "        if y * x.dot(w.T) <= 0.:\n",
    "            c += 1\n",
    "            w += lr * y * x\n",
    "            plot_hyperplane(w)\n",
    "    if not c:\n",
    "        break"
   ]
  }
 ],
 "metadata": {
  "interpreter": {
   "hash": "f986a2461f5786d3cd1b7b30856ec5b277970b9a8cbc7da222a05b7f2c0b8370"
  },
  "kernelspec": {
   "display_name": "Python 3 (ipykernel)",
   "language": "python",
   "name": "python3"
  },
  "language_info": {
   "codemirror_mode": {
    "name": "ipython",
    "version": 3
   },
   "file_extension": ".py",
   "mimetype": "text/x-python",
   "name": "python",
   "nbconvert_exporter": "python",
   "pygments_lexer": "ipython3",
   "version": "3.7.9"
  }
 },
 "nbformat": 4,
 "nbformat_minor": 5
}
