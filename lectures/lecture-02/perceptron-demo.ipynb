{
 "cells": [
  {
   "cell_type": "markdown",
   "id": "46839b2a-2247-4a72-ba64-9d68dcdb5ef3",
   "metadata": {},
   "source": [
    "# Perceptron Demo"
   ]
  },
  {
   "cell_type": "code",
   "execution_count": 1,
   "id": "22336dc7-2eb0-4870-ad4c-8395686301d0",
   "metadata": {},
   "outputs": [],
   "source": [
    "import numpy as np\n",
    "import matplotlib.pyplot as plt\n",
    "%matplotlib notebook\n",
    "%matplotlib inline"
   ]
  },
  {
   "cell_type": "code",
   "execution_count": 7,
   "id": "259b4449-835a-4a2c-8bf3-07cc9e3daaa4",
   "metadata": {},
   "outputs": [],
   "source": [
    "def gen_perceptron_data(M, w_hat, b_hat):\n",
    "    \"\"\" \n",
    "    Hyperplane: \n",
    "        xw = b \n",
    "        wo*x0 + w1*x1 - b = 0\n",
    "        x1 = (b - wo*x0)/w1  <- Generate data here from w,b\n",
    "    \"\"\"\n",
    "    x0 = 10 * (np.random.uniform(size=M) - 0.5)\n",
    "    x1 = (b_hat - w_hat[0, 0] * x0) / w_hat[0, 1]\n",
    "    x1_median = np.median(x1)\n",
    "    x1 = x1_median + 10 * (np.random.uniform(size=M) - 0.5)\n",
    "    y = np.where(x1 >= (b_hat - w_hat[0, 0] * x0) / w_hat[0, 1], 1., -1.)\n",
    "    return np.stack((x0, x1, y), axis=1)"
   ]
  },
  {
   "cell_type": "code",
   "execution_count": 8,
   "id": "7360f9be-ac35-4326-a9c1-96a9c29324e4",
   "metadata": {},
   "outputs": [],
   "source": [
    "M = 50 # num data points\n",
    "w_hat = np.array([[1, 1]])\n",
    "b_hat = 0.0\n",
    "D = gen_perceptron_data(M, w_hat, b_hat)\n",
    "x0 = np.linspace(min(D[:, 0]), max(D[:, 0]))\n",
    "x1_hat = (b_hat - w_hat[0, 0] * x0) / w_hat[0, 1]\n",
    "x0_rng = [min(x0) - 5., max(x0) + 5.]\n",
    "x1_rng = [min(x1_hat) - 5., max(x1_hat) + 5.]"
   ]
  },
  {
   "cell_type": "code",
   "execution_count": 9,
   "id": "c4af627f-7c45-4d15-81d2-882a43c9cf56",
   "metadata": {},
   "outputs": [],
   "source": [
    "from IPython.display import clear_output\n",
    "\n",
    "def plot_hyperplane(w, b):\n",
    "    clear_output()\n",
    "    plt.scatter(D[:, 0], D[:, 1], c=D[:, 2])\n",
    "    x1 = (b - w[0, 0] * x0) / w[0, 1]\n",
    "    plt.plot(x0, x1, 'g--', label='current');\n",
    "    plt.plot(x0, x1_hat, 'r--', label='opt');\n",
    "    plt.xlim(*x0_rng)\n",
    "    plt.ylim(*x1_rng)\n",
    "    plt.show();"
   ]
  },
  {
   "cell_type": "code",
   "execution_count": 10,
   "id": "8bbe7e4b-8c7b-4f57-9634-49be062725e4",
   "metadata": {},
   "outputs": [
    {
     "data": {
      "image/png": "[encoded data removed]",
      "text/plain": [
       "<Figure size 432x288 with 1 Axes>"
      ]
     },
     "metadata": {
      "needs_background": "light"
     },
     "output_type": "display_data"
    }
   ],
   "source": [
    "w = np.zeros(shape=[1,2])\n",
    "b = 0.0\n",
    "lr = 0.25\n",
    "plot_hyperplane(w, b)\n",
    "plt.pause(1.0)\n",
    "while True:\n",
    "    c = 0\n",
    "    for point in D:\n",
    "        y = point[-1]\n",
    "        x = np.array([point[:2]])\n",
    "        if y * (x.dot(w.T) + b) <= 0.:\n",
    "            c += 1\n",
    "            w = w + lr * (y * x)\n",
    "            b = b + lr * y\n",
    "            plot_hyperplane(w, b)\n",
    "            plt.pause(0.5)\n",
    "    if not c:\n",
    "        break"
   ]
  },
  {
   "cell_type": "code",
   "execution_count": 11,
   "id": "ac904755-e0a0-41b6-a39e-3b6dda6cd4af",
   "metadata": {},
   "outputs": [
    {
     "name": "stdout",
     "output_type": "stream",
     "text": [
      "[[1 1]] [[2.59559259 2.529583  ]]\n",
      "0.0 -0.25\n"
     ]
    }
   ],
   "source": [
    "print(w_hat, w)\n",
    "print(b_hat, b)"
   ]
  }
 ],
 "metadata": {
  "kernelspec": {
   "display_name": "Python 3 (ipykernel)",
   "language": "python",
   "name": "python3"
  },
  "language_info": {
   "codemirror_mode": {
    "name": "ipython",
    "version": 3
   },
   "file_extension": ".py",
   "mimetype": "text/x-python",
   "name": "python",
   "nbconvert_exporter": "python",
   "pygments_lexer": "ipython3",
   "version": "3.7.9"
  }
 },
 "nbformat": 4,
 "nbformat_minor": 5
}
