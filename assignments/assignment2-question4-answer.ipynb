{
 "cells": [
  {
   "cell_type": "code",
   "execution_count": 20,
   "metadata": {},
   "outputs": [],
   "source": [
    "import pandas as pd\n",
    "from collections import Counter\n",
    "from nltk.util import ngrams\n",
    "import nltk"
   ]
  },
  {
   "cell_type": "code",
   "execution_count": 63,
   "metadata": {},
   "outputs": [],
   "source": [
    "seuss = \"<s> I am Sam </s>\\\n",
    " <s> Sam I am </s>\\\n",
    " <s> I am Sam </s>\\\n",
    " <s> I do not like green eggs and ham </s>\""
   ]
  },
  {
   "cell_type": "code",
   "execution_count": 84,
   "metadata": {},
   "outputs": [
    {
     "name": "stdout",
     "output_type": "stream",
     "text": [
      "('<s>', 'I', 'am')\n",
      "('I', 'am', 'Sam')\n",
      "('am', 'Sam', '</s>')\n",
      "('Sam', '</s>', '<s>')\n",
      "('</s>', '<s>', 'Sam')\n",
      "('<s>', 'Sam', 'I')\n",
      "('Sam', 'I', 'am')\n",
      "('I', 'am', '</s>')\n",
      "('am', '</s>', '<s>')\n",
      "('</s>', '<s>', 'I')\n",
      "('<s>', 'I', 'am')\n",
      "('I', 'am', 'Sam')\n",
      "('am', 'Sam', '</s>')\n",
      "('Sam', '</s>', '<s>')\n",
      "('</s>', '<s>', 'I')\n",
      "('<s>', 'I', 'do')\n",
      "('I', 'do', 'not')\n",
      "('do', 'not', 'like')\n",
      "('not', 'like', 'green')\n",
      "('like', 'green', 'eggs')\n",
      "('green', 'eggs', 'and')\n",
      "('eggs', 'and', 'ham')\n",
      "('and', 'ham', '</s>')\n"
     ]
    }
   ],
   "source": [
    "# here is code to create all of the possibilties for the trigrams from the seuss input above\n",
    "N = 3\n",
    "trigrams = ngrams(seuss.split(), N)\n",
    "for grams in trigrams:\n",
    "  print(grams)"
   ]
  },
  {
   "cell_type": "code",
   "execution_count": 109,
   "metadata": {},
   "outputs": [
    {
     "name": "stdout",
     "output_type": "stream",
     "text": [
      "['<s>', 'I', 'am', 'Sam', '</s>', '<s>', 'Sam', 'I', 'am', '</s>', '<s>', 'I', 'am', 'Sam', '</s>', '<s>', 'I', 'do', 'not', 'like', 'green', 'eggs', 'and', 'ham', '</s>']\n"
     ]
    }
   ],
   "source": [
    "all_seuss_words = seuss.split()\n",
    "print(all_seuss_words)"
   ]
  },
  {
   "cell_type": "code",
   "execution_count": 130,
   "metadata": {},
   "outputs": [
    {
     "data": {
      "text/plain": [
       "'I'"
      ]
     },
     "execution_count": 130,
     "metadata": {},
     "output_type": "execute_result"
    }
   ],
   "source": [
    "all_seuss_words[1]"
   ]
  },
  {
   "cell_type": "code",
   "execution_count": 152,
   "metadata": {},
   "outputs": [
    {
     "data": {
      "text/plain": [
       "4"
      ]
     },
     "execution_count": 152,
     "metadata": {},
     "output_type": "execute_result"
    }
   ],
   "source": [
    "d = {x:all_seuss_words.count(x) for x in all_seuss_words}\n",
    "#list(d.values())[]\n",
    "d['ham']\n",
    "d[all_seuss_words[1]]"
   ]
  },
  {
   "cell_type": "code",
   "execution_count": 87,
   "metadata": {},
   "outputs": [
    {
     "data": {
      "text/plain": [
       "Counter({('<s>', 'I', 'am'): 2,\n",
       "         ('I', 'am', 'Sam'): 2,\n",
       "         ('am', 'Sam', '</s>'): 2,\n",
       "         ('Sam', '</s>', '<s>'): 2,\n",
       "         ('</s>', '<s>', 'Sam'): 1,\n",
       "         ('<s>', 'Sam', 'I'): 1,\n",
       "         ('Sam', 'I', 'am'): 1,\n",
       "         ('I', 'am', '</s>'): 1,\n",
       "         ('am', '</s>', '<s>'): 1,\n",
       "         ('</s>', '<s>', 'I'): 2,\n",
       "         ('<s>', 'I', 'do'): 1,\n",
       "         ('I', 'do', 'not'): 1,\n",
       "         ('do', 'not', 'like'): 1,\n",
       "         ('not', 'like', 'green'): 1,\n",
       "         ('like', 'green', 'eggs'): 1,\n",
       "         ('green', 'eggs', 'and'): 1,\n",
       "         ('eggs', 'and', 'ham'): 1,\n",
       "         ('and', 'ham', '</s>'): 1})"
      ]
     },
     "execution_count": 87,
     "metadata": {},
     "output_type": "execute_result"
    }
   ],
   "source": [
    "def get_trigrams(words):\n",
    "    test = words.split()\n",
    "    return zip(test, test[1:], test[2:])\n",
    "\n",
    "Counter(get_trigrams(seuss))"
   ]
  },
  {
   "cell_type": "code",
   "execution_count": 154,
   "metadata": {},
   "outputs": [
    {
     "data": {
      "text/plain": [
       "Counter({('<s>', 'I'): 3,\n",
       "         ('I', 'am'): 3,\n",
       "         ('am', 'Sam'): 2,\n",
       "         ('Sam', '</s>'): 2,\n",
       "         ('</s>', '<s>'): 3,\n",
       "         ('<s>', 'Sam'): 1,\n",
       "         ('Sam', 'I'): 1,\n",
       "         ('am', '</s>'): 1,\n",
       "         ('I', 'do'): 1,\n",
       "         ('do', 'not'): 1,\n",
       "         ('not', 'like'): 1,\n",
       "         ('like', 'green'): 1,\n",
       "         ('green', 'eggs'): 1,\n",
       "         ('eggs', 'and'): 1,\n",
       "         ('and', 'ham'): 1,\n",
       "         ('ham', '</s>'): 1})"
      ]
     },
     "execution_count": 154,
     "metadata": {},
     "output_type": "execute_result"
    }
   ],
   "source": [
    "# need to save the output as a dictionary\n",
    "def get_bigrams(words):\n",
    "    test = words.split()\n",
    "    return zip(test, test[1:])\n",
    "\n",
    "saved_bigrams = Counter(get_bigrams(seuss))\n",
    "saved_bigrams\n",
    "# conditional probability says that the bigram (I|<s>) = C(<s>,<I>)/C(<s>) = 3/4\n",
    "# basically need to do get_bigrams[i]/all_seuss_words[get_bigrams(i,0)]\n"
   ]
  },
  {
   "cell_type": "code",
   "execution_count": 85,
   "metadata": {},
   "outputs": [],
   "source": [
    "def trigram_counts(word_list):\n",
    "    word_list = word_list.split()\n",
    "    seuss_trigrams = nltk.trigrams(word_list)\n",
    "    condition_pairs = (((w0, w1), w2) for w0, w1, w2 in seuss_trigrams)\n",
    "    fdist = nltk.ConditionalFreqDist(condition_pairs)\n",
    "    d = Counter()\n",
    "    for k, v in fdist.items():\n",
    "        d[k] = v\n",
    "    return d "
   ]
  },
  {
   "cell_type": "code",
   "execution_count": 101,
   "metadata": {},
   "outputs": [
    {
     "data": {
      "text/plain": [
       "Counter({('<s>', 'I'): FreqDist({'am': 2, 'do': 1}),\n",
       "         ('I', 'am'): FreqDist({'Sam': 2, '</s>': 1}),\n",
       "         ('am', 'Sam'): FreqDist({'</s>': 2}),\n",
       "         ('Sam', '</s>'): FreqDist({'<s>': 2}),\n",
       "         ('</s>', '<s>'): FreqDist({'I': 2, 'Sam': 1}),\n",
       "         ('<s>', 'Sam'): FreqDist({'I': 1}),\n",
       "         ('Sam', 'I'): FreqDist({'am': 1}),\n",
       "         ('am', '</s>'): FreqDist({'<s>': 1}),\n",
       "         ('I', 'do'): FreqDist({'not': 1}),\n",
       "         ('do', 'not'): FreqDist({'like': 1}),\n",
       "         ('not', 'like'): FreqDist({'green': 1}),\n",
       "         ('like', 'green'): FreqDist({'eggs': 1}),\n",
       "         ('green', 'eggs'): FreqDist({'and': 1}),\n",
       "         ('eggs', 'and'): FreqDist({'ham': 1}),\n",
       "         ('and', 'ham'): FreqDist({'</s>': 1})})"
      ]
     },
     "execution_count": 101,
     "metadata": {},
     "output_type": "execute_result"
    }
   ],
   "source": [
    "trigram_counts(seuss)"
   ]
  },
  {
   "cell_type": "code",
   "execution_count": null,
   "metadata": {},
   "outputs": [],
   "source": []
  },
  {
   "cell_type": "code",
   "execution_count": null,
   "metadata": {},
   "outputs": [],
   "source": []
  }
 ],
 "metadata": {
  "kernelspec": {
   "display_name": "Python 3",
   "language": "python",
   "name": "python3"
  },
  "language_info": {
   "codemirror_mode": {
    "name": "ipython",
    "version": 3
   },
   "file_extension": ".py",
   "mimetype": "text/x-python",
   "name": "python",
   "nbconvert_exporter": "python",
   "pygments_lexer": "ipython3",
   "version": "3.8.5"
  }
 },
 "nbformat": 4,
 "nbformat_minor": 4
}
