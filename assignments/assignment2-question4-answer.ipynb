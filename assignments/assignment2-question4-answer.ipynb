{
 "cells": [
  {
   "cell_type": "code",
   "execution_count": 20,
   "metadata": {},
   "outputs": [],
   "source": [
    "import pandas as pd\n",
    "from collections import Counter\n",
    "from nltk.util import ngrams\n",
    "import nltk"
   ]
  },
  {
   "cell_type": "code",
   "execution_count": 63,
   "metadata": {},
   "outputs": [],
   "source": [
    "seuss = \"<s> I am Sam </s>\\\n",
    " <s> Sam I am </s>\\\n",
    " <s> I am Sam </s>\\\n",
    " <s> I do not like green eggs and ham </s>\""
   ]
  },
  {
   "cell_type": "code",
   "execution_count": 64,
   "metadata": {},
   "outputs": [
    {
     "name": "stdout",
     "output_type": "stream",
     "text": [
      "('<s>', 'I', 'am')\n",
      "('I', 'am', 'Sam')\n",
      "('am', 'Sam', '</s>')\n",
      "('Sam', '</s>', '<s>')\n",
      "('</s>', '<s>', 'Sam')\n",
      "('<s>', 'Sam', 'I')\n",
      "('Sam', 'I', 'am')\n",
      "('I', 'am', '</s>')\n",
      "('am', '</s>', '<s>')\n",
      "('</s>', '<s>', 'I')\n",
      "('<s>', 'I', 'am')\n",
      "('I', 'am', 'Sam')\n",
      "('am', 'Sam', '</s>')\n",
      "('Sam', '</s>', '<s>')\n",
      "('</s>', '<s>', 'I')\n",
      "('<s>', 'I', 'do')\n",
      "('I', 'do', 'not')\n",
      "('do', 'not', 'like')\n",
      "('not', 'like', 'green')\n",
      "('like', 'green', 'eggs')\n",
      "('green', 'eggs', 'and')\n",
      "('eggs', 'and', 'ham')\n",
      "('and', 'ham', '</s>')\n"
     ]
    }
   ],
   "source": [
    "# here is code to create all of the possibilties for the trigrams from the seuss input above\n",
    "N = 3\n",
    "trigrams = ngrams(seuss.split(), N)\n",
    "for grams in trigrams:\n",
    "  print(grams)"
   ]
  },
  {
   "cell_type": "code",
   "execution_count": 65,
   "metadata": {},
   "outputs": [],
   "source": [
    "seuss_trigrams = nltk.trigrams(seuss)\n",
    "condition_pairs = (((w0, w1), w2) for w0, w1, w2 in seuss_trigrams)\n",
    "cfd_seuss = nltk.ConditionalFreqDist(condition_pairs)"
   ]
  },
  {
   "cell_type": "code",
   "execution_count": 66,
   "metadata": {},
   "outputs": [],
   "source": [
    "def trigram_counts(word_list):\n",
    "    seuss_trigrams = nltk.trigrams(word_list)\n",
    "    condition_pairs = (((w0, w1), w2) for w0, w1, w2 in seuss_trigrams)\n",
    "    fdist = nltk.ConditionalFreqDist(condition_pairs)\n",
    "    d = Counter()\n",
    "    for k, v in fdist.items():\n",
    "        d[k] = v\n",
    "    return d "
   ]
  },
  {
   "cell_type": "code",
   "execution_count": 67,
   "metadata": {},
   "outputs": [
    {
     "data": {
      "text/plain": [
       "Counter({('<', 's'): FreqDist({'>': 4}),\n",
       "         ('s', '>'): FreqDist({' ': 7}),\n",
       "         ('>', ' '): FreqDist({'I': 3, '<': 3, 'S': 1}),\n",
       "         (' ', 'I'): FreqDist({' ': 4}),\n",
       "         ('I', ' '): FreqDist({'a': 3, 'd': 1}),\n",
       "         (' ', 'a'): FreqDist({'m': 3, 'n': 1}),\n",
       "         ('a', 'm'): FreqDist({' ': 7}),\n",
       "         ('m', ' '): FreqDist({'<': 4, 'S': 2, 'I': 1}),\n",
       "         (' ', 'S'): FreqDist({'a': 3}),\n",
       "         ('S', 'a'): FreqDist({'m': 3}),\n",
       "         (' ', '<'): FreqDist({'/': 4, 's': 3}),\n",
       "         ('<', '/'): FreqDist({'s': 4}),\n",
       "         ('/', 's'): FreqDist({'>': 4}),\n",
       "         (' ', 'd'): FreqDist({'o': 1}),\n",
       "         ('d', 'o'): FreqDist({' ': 1}),\n",
       "         ('o', ' '): FreqDist({'n': 1}),\n",
       "         (' ', 'n'): FreqDist({'o': 1}),\n",
       "         ('n', 'o'): FreqDist({'t': 1}),\n",
       "         ('o', 't'): FreqDist({' ': 1}),\n",
       "         ('t', ' '): FreqDist({'l': 1}),\n",
       "         (' ', 'l'): FreqDist({'i': 1}),\n",
       "         ('l', 'i'): FreqDist({'k': 1}),\n",
       "         ('i', 'k'): FreqDist({'e': 1}),\n",
       "         ('k', 'e'): FreqDist({' ': 1}),\n",
       "         ('e', ' '): FreqDist({'g': 1}),\n",
       "         (' ', 'g'): FreqDist({'r': 1}),\n",
       "         ('g', 'r'): FreqDist({'e': 1}),\n",
       "         ('r', 'e'): FreqDist({'e': 1}),\n",
       "         ('e', 'e'): FreqDist({'n': 1}),\n",
       "         ('e', 'n'): FreqDist({' ': 1}),\n",
       "         ('n', ' '): FreqDist({'e': 1}),\n",
       "         (' ', 'e'): FreqDist({'g': 1}),\n",
       "         ('e', 'g'): FreqDist({'g': 1}),\n",
       "         ('g', 'g'): FreqDist({'s': 1}),\n",
       "         ('g', 's'): FreqDist({' ': 1}),\n",
       "         ('s', ' '): FreqDist({'a': 1}),\n",
       "         ('a', 'n'): FreqDist({'d': 1}),\n",
       "         ('n', 'd'): FreqDist({' ': 1}),\n",
       "         ('d', ' '): FreqDist({'h': 1}),\n",
       "         (' ', 'h'): FreqDist({'a': 1}),\n",
       "         ('h', 'a'): FreqDist({'m': 1})})"
      ]
     },
     "execution_count": 67,
     "metadata": {},
     "output_type": "execute_result"
    }
   ],
   "source": [
    "trigram_counts(seuss)"
   ]
  },
  {
   "cell_type": "code",
   "execution_count": 59,
   "metadata": {},
   "outputs": [],
   "source": [
    "START_SYMBOL = '*'\n",
    "STOP_SYMBOL = 'STOP'\n",
    "MINUS_INFINITY_SENTENCE_LOG_PROB = -1000\n",
    "\n",
    "def calc_probabilities(words):\n",
    "    unigram_c = collections.defaultdict(int)\n",
    "    bigram_c = collections.defaultdict(int)\n",
    "    trigram_c = collections.defaultdict(int)\n",
    "\n",
    "\n",
    "    for line in words:\n",
    "        tokens0 = line.split()\n",
    "        tokens1 = tokens0 + [STOP_SYMBOL]\n",
    "        tokens2 = [START_SYMBOL] + tokens0 + [STOP_SYMBOL]\n",
    "        tokens3 = [START_SYMBOL] + [START_SYMBOL] + tokens0 + [STOP_SYMBOL]\n",
    "        # unigrams\n",
    "        for unigram in tokens1:\n",
    "            unigram_c[unigram] += 1\n",
    "\n",
    "        # bigrams\n",
    "        for bigram in nltk.bigrams(tokens2):\n",
    "            bigram_c[bigram] += 1\n",
    "\n",
    "    \n",
    "        # trigrams\n",
    "        for trigram in nltk.trigrams(tokens3):\n",
    "            trigram_c[trigram] += 1\n",
    "\n",
    "    unigrams_len = sum(unigram_c.values())\n",
    "    unigram_p = {k: math.log(float(v) / unigrams_len, 2) for k, v in unigram_c.items()}\n",
    "\n",
    "    # calc P(W2|W1) = P(W2,W1) / P(W1) = C(W2,W1) / C(W1)\n",
    "    unigram_c[START_SYMBOL] = len(words)\n",
    "    bigram_p = {k: math.log(float(v) / unigram_c[k[0]], 2) for k, v in bigram_c.items()}\n",
    "\n",
    "    bigram_c[(START_SYMBOL, START_SYMBOL)] = len(words)\n",
    "    trigram_p = {k: math.log(float(v) / bigram_c[k[:2]], 2) for k, v in trigram_c.items()}\n",
    "    return trigram_p"
   ]
  },
  {
   "cell_type": "code",
   "execution_count": 62,
   "metadata": {},
   "outputs": [
    {
     "data": {
      "text/plain": [
       "['<s>',\n",
       " 'I',\n",
       " 'am',\n",
       " 'Sam',\n",
       " '</s>',\n",
       " '<s>',\n",
       " 'Sam',\n",
       " 'I',\n",
       " 'am',\n",
       " '</s>',\n",
       " '<s>',\n",
       " 'I',\n",
       " 'am',\n",
       " 'Sam',\n",
       " '</s>',\n",
       " '<s>',\n",
       " 'I',\n",
       " 'do',\n",
       " 'not',\n",
       " 'like',\n",
       " 'green',\n",
       " 'eggs',\n",
       " 'and',\n",
       " 'Sam',\n",
       " '</s>']"
      ]
     },
     "execution_count": 62,
     "metadata": {},
     "output_type": "execute_result"
    }
   ],
   "source": [
    "trigram_c = collections.defaultdict(int)\n",
    "seuss.split()"
   ]
  },
  {
   "cell_type": "code",
   "execution_count": 60,
   "metadata": {},
   "outputs": [
    {
     "data": {
      "text/plain": [
       "{('*', '*', '<'): -3.5698556083309483,\n",
       " ('*', '<', 'STOP'): 0.0,\n",
       " ('*', '*', 's'): -3.3999306068886352,\n",
       " ('*', 's', 'STOP'): 0.0,\n",
       " ('*', '*', '>'): -3.5698556083309483,\n",
       " ('*', '>', 'STOP'): 0.0,\n",
       " ('*', '*', 'STOP'): -1.9848931076097918,\n",
       " ('*', '*', 'I'): -4.569855608330949,\n",
       " ('*', 'I', 'STOP'): 0.0,\n",
       " ('*', '*', 'a'): -3.5698556083309483,\n",
       " ('*', 'a', 'STOP'): 0.0,\n",
       " ('*', '*', 'm'): -3.762500686273344,\n",
       " ('*', 'm', 'STOP'): 0.0,\n",
       " ('*', '*', 'S'): -4.569855608330949,\n",
       " ('*', 'S', 'STOP'): 0.0,\n",
       " ('*', '*', '/'): -4.569855608330949,\n",
       " ('*', '/', 'STOP'): 0.0,\n",
       " ('*', '*', 'd'): -5.569855608330948,\n",
       " ('*', 'd', 'STOP'): 0.0,\n",
       " ('*', '*', 'o'): -5.569855608330948,\n",
       " ('*', 'o', 'STOP'): 0.0,\n",
       " ('*', '*', 'n'): -4.984893107609792,\n",
       " ('*', 'n', 'STOP'): 0.0,\n",
       " ('*', '*', 't'): -6.569855608330948,\n",
       " ('*', 't', 'STOP'): 0.0,\n",
       " ('*', '*', 'l'): -6.569855608330948,\n",
       " ('*', 'l', 'STOP'): 0.0,\n",
       " ('*', '*', 'i'): -6.569855608330948,\n",
       " ('*', 'i', 'STOP'): 0.0,\n",
       " ('*', '*', 'k'): -6.569855608330948,\n",
       " ('*', 'k', 'STOP'): 0.0,\n",
       " ('*', '*', 'e'): -4.569855608330949,\n",
       " ('*', 'e', 'STOP'): 0.0,\n",
       " ('*', '*', 'g'): -4.984893107609792,\n",
       " ('*', 'g', 'STOP'): 0.0,\n",
       " ('*', '*', 'r'): -6.569855608330948,\n",
       " ('*', 'r', 'STOP'): 0.0}"
      ]
     },
     "execution_count": 60,
     "metadata": {},
     "output_type": "execute_result"
    }
   ],
   "source": []
  },
  {
   "cell_type": "code",
   "execution_count": null,
   "metadata": {},
   "outputs": [],
   "source": []
  }
 ],
 "metadata": {
  "kernelspec": {
   "display_name": "Python 3",
   "language": "python",
   "name": "python3"
  },
  "language_info": {
   "codemirror_mode": {
    "name": "ipython",
    "version": 3
   },
   "file_extension": ".py",
   "mimetype": "text/x-python",
   "name": "python",
   "nbconvert_exporter": "python",
   "pygments_lexer": "ipython3",
   "version": "3.8.5"
  }
 },
 "nbformat": 4,
 "nbformat_minor": 4
}
