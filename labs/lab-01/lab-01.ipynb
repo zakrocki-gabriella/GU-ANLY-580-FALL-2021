{
 "cells": [
  {
   "cell_type": "markdown",
   "metadata": {},
   "source": [
    "# Lab 01: Setup computing environment"
   ]
  },
  {
   "cell_type": "markdown",
   "metadata": {},
   "source": [
    "### (10 pts) Task 1: Run this block of code to ensure that your dependencies are installed"
   ]
  },
  {
   "cell_type": "code",
   "execution_count": 2,
   "metadata": {},
   "outputs": [],
   "source": [
    "import numpy as np\n",
    "import tensorflow\n",
    "import torch"
   ]
  },
  {
   "cell_type": "markdown",
   "metadata": {},
   "source": [
    "### (10 pts) Task 2: Complete the function `linear_transformation()` by implementing a matrix multiplication between the data matrix, `X` of size `M x N`, and the tensor, `W` of size `N x N` (an identity matrix)."
   ]
  },
  {
   "cell_type": "code",
   "execution_count": 4,
   "metadata": {},
   "outputs": [],
   "source": [
    "def linear_transformation(X, W):\n",
    "    \"\"\"\n",
    "    Parameters\n",
    "    ----------\n",
    "    X: np.array (M x N)\n",
    "        Data matrix\n",
    "    W: np.array(N x N)\n",
    "        Linear transformation\n",
    "    Returns\n",
    "    -------\n",
    "    X_prime: np.array (M x N)\n",
    "    \"\"\"\n",
    "\n",
    "    X_prime = np.dot(X, np.transpose(W)) # taking the dot product (aka matrix multiplication) of X and W - which is the correct order of the multiplication\n",
    "    return(X_prime) # this should be an M x N matrix\n",
    "    pass"
   ]
  },
  {
   "cell_type": "code",
   "execution_count": 5,
   "metadata": {},
   "outputs": [],
   "source": [
    "W = np.identity(10)\n",
    "X = np.random.random((300, 10))"
   ]
  },
  {
   "cell_type": "code",
   "execution_count": 6,
   "metadata": {},
   "outputs": [],
   "source": [
    "X_tx = linear_transformation(X, W)\n",
    "assert (X_tx == X).all()"
   ]
  },
  {
   "cell_type": "code",
   "execution_count": 7,
   "metadata": {},
   "outputs": [
    {
     "data": {
      "text/plain": [
       "array([[0.31575818, 0.3598386 , 0.16562924, ..., 0.32527973, 0.05681111,\n",
       "        0.5945775 ],\n",
       "       [0.30060726, 0.76747417, 0.38305061, ..., 0.04386658, 0.06166353,\n",
       "        0.97131337],\n",
       "       [0.89577431, 0.16545663, 0.23639829, ..., 0.26985616, 0.2467598 ,\n",
       "        0.86322947],\n",
       "       ...,\n",
       "       [0.10286842, 0.21351033, 0.39025991, ..., 0.89982351, 0.28033221,\n",
       "        0.26386971],\n",
       "       [0.85320934, 0.80474483, 0.16962829, ..., 0.51291321, 0.44585768,\n",
       "        0.09826733],\n",
       "       [0.72577165, 0.29214062, 0.58824621, ..., 0.03221741, 0.79889892,\n",
       "        0.8037303 ]])"
      ]
     },
     "execution_count": 7,
     "metadata": {},
     "output_type": "execute_result"
    }
   ],
   "source": [
    "X_tx"
   ]
  },
  {
   "cell_type": "code",
   "execution_count": 8,
   "metadata": {},
   "outputs": [
    {
     "data": {
      "text/plain": [
       "(300, 10)"
      ]
     },
     "execution_count": 8,
     "metadata": {},
     "output_type": "execute_result"
    }
   ],
   "source": [
    "# double checking to ensure that the dimensions are correct\n",
    "X_tx.shape"
   ]
  },
  {
   "cell_type": "code",
   "execution_count": null,
   "metadata": {},
   "outputs": [],
   "source": []
  }
 ],
 "metadata": {
  "kernelspec": {
   "display_name": "Python 3",
   "language": "python",
   "name": "python3"
  },
  "language_info": {
   "codemirror_mode": {
    "name": "ipython",
    "version": 3
   },
   "file_extension": ".py",
   "mimetype": "text/x-python",
   "name": "python",
   "nbconvert_exporter": "python",
   "pygments_lexer": "ipython3",
   "version": "3.8.5"
  }
 },
 "nbformat": 4,
 "nbformat_minor": 5
}
