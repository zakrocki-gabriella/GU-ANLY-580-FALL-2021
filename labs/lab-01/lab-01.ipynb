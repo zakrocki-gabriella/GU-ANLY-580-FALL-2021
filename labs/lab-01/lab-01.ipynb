{
 "cells": [
  {
   "cell_type": "markdown",
   "metadata": {},
   "source": [
    "# Lab 01: Setup computing environment"
   ]
  },
  {
   "cell_type": "markdown",
   "metadata": {},
   "source": [
    "### (10 pts) Task 1: Run this block of code to ensure that your dependencies are installed"
   ]
  },
  {
   "cell_type": "code",
   "execution_count": 3,
   "metadata": {},
   "outputs": [],
   "source": [
    "import numpy as np\n",
    "import tensorflow\n",
    "import torch"
   ]
  },
  {
   "cell_type": "markdown",
   "metadata": {},
   "source": [
    "### (10 pts) Task 2: Complete the function `linear_transformation()` by implementing a matrix multiplication between the data matrix, `X` of size `M x N`, and the tensor, `W` of size `N x N` (an identity matrix)."
   ]
  },
  {
   "cell_type": "code",
   "execution_count": 9,
   "metadata": {},
   "outputs": [],
   "source": [
    "def linear_transformation(X, W):\n",
    "    \"\"\"\n",
    "    Parameters\n",
    "    ----------\n",
    "    X: np.array (M x N)\n",
    "        Data matrix\n",
    "    W: np.array(N x N)\n",
    "        Linear transformation\n",
    "    Returns\n",
    "    -------\n",
    "    X_prime: np.array (M x N)\n",
    "    \"\"\"\n",
    "\n",
    "    X_prime = np.dot(X,W) # taking the dot product (aka matrix multiplication) of X and W - which is the correct order of the multiplication\n",
    "    return(X_prime) # this should be an M x N matrix\n",
    "    pass"
   ]
  },
  {
   "cell_type": "code",
   "execution_count": 10,
   "metadata": {},
   "outputs": [],
   "source": [
    "W = np.identity(10)\n",
    "X = np.random.random((300, 10))"
   ]
  },
  {
   "cell_type": "code",
   "execution_count": 11,
   "metadata": {},
   "outputs": [],
   "source": [
    "X_tx = linear_transformation(X, W)\n",
    "assert (X_tx == X).all()"
   ]
  },
  {
   "cell_type": "code",
   "execution_count": 12,
   "metadata": {},
   "outputs": [
    {
     "data": {
      "text/plain": [
       "array([[0.22788549, 0.12145396, 0.6128767 , ..., 0.24598927, 0.66216195,\n",
       "        0.05787058],\n",
       "       [0.01326703, 0.68165292, 0.45285689, ..., 0.273162  , 0.19970785,\n",
       "        0.09428422],\n",
       "       [0.7305591 , 0.2247802 , 0.73256545, ..., 0.19365698, 0.44501618,\n",
       "        0.41582092],\n",
       "       ...,\n",
       "       [0.57323184, 0.74875894, 0.65271543, ..., 0.2501829 , 0.15767066,\n",
       "        0.7110348 ],\n",
       "       [0.10643061, 0.05910843, 0.58035215, ..., 0.29223914, 0.21218873,\n",
       "        0.33181039],\n",
       "       [0.68164422, 0.62961714, 0.31058131, ..., 0.55250234, 0.62903978,\n",
       "        0.51487954]])"
      ]
     },
     "execution_count": 12,
     "metadata": {},
     "output_type": "execute_result"
    }
   ],
   "source": [
    "X_tx"
   ]
  },
  {
   "cell_type": "code",
   "execution_count": 17,
   "metadata": {},
   "outputs": [
    {
     "data": {
      "text/plain": [
       "(300, 10)"
      ]
     },
     "execution_count": 17,
     "metadata": {},
     "output_type": "execute_result"
    }
   ],
   "source": [
    "# double checking to ensure that the dimensions are correct\n",
    "X_tx.shape"
   ]
  },
  {
   "cell_type": "code",
   "execution_count": null,
   "metadata": {},
   "outputs": [],
   "source": []
  }
 ],
 "metadata": {
  "kernelspec": {
   "display_name": "Python 3",
   "language": "python",
   "name": "python3"
  },
  "language_info": {
   "codemirror_mode": {
    "name": "ipython",
    "version": 3
   },
   "file_extension": ".py",
   "mimetype": "text/x-python",
   "name": "python",
   "nbconvert_exporter": "python",
   "pygments_lexer": "ipython3",
   "version": "3.8.5"
  }
 },
 "nbformat": 4,
 "nbformat_minor": 5
}
